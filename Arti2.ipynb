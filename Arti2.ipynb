{
 "cells": [
  {
   "cell_type": "code",
   "execution_count": 1,
   "metadata": {},
   "outputs": [
    {
     "name": "stderr",
     "output_type": "stream",
     "text": [
      "C:\\Users\\Abe-r\\Anaconda3\\lib\\site-packages\\tensorflow\\python\\framework\\dtypes.py:526: FutureWarning: Passing (type, 1) or '1type' as a synonym of type is deprecated; in a future version of numpy, it will be understood as (type, (1,)) / '(1,)type'.\n",
      "  _np_qint8 = np.dtype([(\"qint8\", np.int8, 1)])\n",
      "C:\\Users\\Abe-r\\Anaconda3\\lib\\site-packages\\tensorflow\\python\\framework\\dtypes.py:527: FutureWarning: Passing (type, 1) or '1type' as a synonym of type is deprecated; in a future version of numpy, it will be understood as (type, (1,)) / '(1,)type'.\n",
      "  _np_quint8 = np.dtype([(\"quint8\", np.uint8, 1)])\n",
      "C:\\Users\\Abe-r\\Anaconda3\\lib\\site-packages\\tensorflow\\python\\framework\\dtypes.py:528: FutureWarning: Passing (type, 1) or '1type' as a synonym of type is deprecated; in a future version of numpy, it will be understood as (type, (1,)) / '(1,)type'.\n",
      "  _np_qint16 = np.dtype([(\"qint16\", np.int16, 1)])\n",
      "C:\\Users\\Abe-r\\Anaconda3\\lib\\site-packages\\tensorflow\\python\\framework\\dtypes.py:529: FutureWarning: Passing (type, 1) or '1type' as a synonym of type is deprecated; in a future version of numpy, it will be understood as (type, (1,)) / '(1,)type'.\n",
      "  _np_quint16 = np.dtype([(\"quint16\", np.uint16, 1)])\n",
      "C:\\Users\\Abe-r\\Anaconda3\\lib\\site-packages\\tensorflow\\python\\framework\\dtypes.py:530: FutureWarning: Passing (type, 1) or '1type' as a synonym of type is deprecated; in a future version of numpy, it will be understood as (type, (1,)) / '(1,)type'.\n",
      "  _np_qint32 = np.dtype([(\"qint32\", np.int32, 1)])\n",
      "C:\\Users\\Abe-r\\Anaconda3\\lib\\site-packages\\tensorflow\\python\\framework\\dtypes.py:535: FutureWarning: Passing (type, 1) or '1type' as a synonym of type is deprecated; in a future version of numpy, it will be understood as (type, (1,)) / '(1,)type'.\n",
      "  np_resource = np.dtype([(\"resource\", np.ubyte, 1)])\n",
      "C:\\Users\\Abe-r\\Anaconda3\\lib\\site-packages\\h5py\\__init__.py:36: FutureWarning: Conversion of the second argument of issubdtype from `float` to `np.floating` is deprecated. In future, it will be treated as `np.float64 == np.dtype(float).type`.\n",
      "  from ._conv import register_converters as _register_converters\n"
     ]
    }
   ],
   "source": [
    "from tensorflow import keras\n",
    "from tensorflow.keras.models import Sequential\n",
    "from tensorflow.keras.layers import Dense\n",
    "\n",
    "import pandas as pd\n",
    "import numpy as np\n",
    "import cv2\n",
    "import matplotlib.pyplot as plt\n",
    "\n",
    "# global varuables\n",
    "w = h = 9"
   ]
  },
  {
   "cell_type": "code",
   "execution_count": 2,
   "metadata": {},
   "outputs": [],
   "source": [
    "#\n",
    "# Reads band images and index images\n",
    "#\n",
    "def read_img(site, _s):\n",
    "    data = []\n",
    "\n",
    "    for i in range(1, 8):\n",
    "        if _s == 'B':\n",
    "            filename = \"input/\"+ site +\"/B\" + str(i) + \"_250_B.tif\"\n",
    "        else:\n",
    "            filename = \"input/\"+ site +\"/B\" + str(i) + \"_250.tif\"\n",
    "            \n",
    "        img = cv2.imread(filename, cv2.IMREAD_GRAYSCALE)\n",
    "        data.append(img)\n",
    "\n",
    "    index = [\"NDVI.tif\", \"NDWI.tif\", \"NDBI.tif\"]\n",
    "    for i in index:\n",
    "        filename = \"input/\"+ site +\"/\" + i\n",
    "        img = cv2.imread(filename, cv2.IMREAD_GRAYSCALE)\n",
    "        data.append(img)\n",
    "\n",
    "#     cv2.imshow(\"Image\", data[9])\n",
    "#     cv2.waitKey(0)\n",
    "    \n",
    "    return data\n",
    "\n",
    "i_img = read_img(\"Landsat8-A\", 'A')\n",
    "test_img = read_img(\"Landsat8-B\", 'B')"
   ]
  },
  {
   "cell_type": "code",
   "execution_count": 3,
   "metadata": {},
   "outputs": [],
   "source": [
    "# Training\n",
    "\n",
    "def crop_train(_img, _c, site):\n",
    "    _class = \"\"\n",
    "    if(_c == 0):\n",
    "        _class = 'Vegetation'\n",
    "    elif(_c == 1):\n",
    "        _class = 'Built-up'\n",
    "    else:\n",
    "        _class = 'Water'\n",
    "        \n",
    "    _pts = pd.read_excel('input/'+ site +'.xlsx', sheet_name = _class)\n",
    "\n",
    "    # iterate over rows with iterrows()\n",
    "    for index, row in _pts.iterrows():\n",
    "        x = row['X'] - 4\n",
    "        y = row['Y'] - 4\n",
    "        \n",
    "        for img in _img:        \n",
    "            crop_img = img[y:y+h, x:x+w]\n",
    "            med = np.median(crop_img) # get median of 9x9 image\n",
    "            X_tr_list.append(med)\n",
    "        y_tr.append(_c)\n"
   ]
  },
  {
   "cell_type": "code",
   "execution_count": 4,
   "metadata": {},
   "outputs": [],
   "source": [
    "# Testing\n",
    "\n",
    "def crop_test(_img):\n",
    "    _pts = pd.read_excel('input/site-b.xlsx')\n",
    "\n",
    "    for index, row in _pts.iterrows():\n",
    "        x = row['X'] - 4\n",
    "        y = row['Y'] - 4\n",
    "        \n",
    "        if(row['Class'] == 255):\n",
    "            _c = 0\n",
    "        elif(row['Class'] == 128):\n",
    "            _c = 1\n",
    "        else:\n",
    "            _c = 2\n",
    "        \n",
    "        for img in _img:        \n",
    "            crop_img = img[y:y+h, x:x+w]\n",
    "            med = np.median(crop_img) # get median of 9x9 image\n",
    "            X_te_list.append(med)\n",
    "        y_te.append(_c)\n",
    "        "
   ]
  },
  {
   "cell_type": "markdown",
   "metadata": {},
   "source": [
    "### Training and Testing Dataset"
   ]
  },
  {
   "cell_type": "code",
   "execution_count": 5,
   "metadata": {},
   "outputs": [
    {
     "name": "stdout",
     "output_type": "stream",
     "text": [
      "Training...\n",
      "2000\n",
      "200\n",
      "Testing...\n",
      "2000\n",
      "200\n"
     ]
    }
   ],
   "source": [
    "# TRAINING SET SITE A ------------------------------------------------------------------\n",
    "X_tr_list = []\n",
    "y_tr = []\n",
    "\n",
    "crop_train(i_img, 0, 'site-a')\n",
    "crop_train(i_img, 1, 'site-a')\n",
    "crop_train(i_img, 2, 'site-a')\n",
    "\n",
    "print(\"Training...\")\n",
    "print(len(X_tr_list))\n",
    "print(len(y_tr))\n",
    "\n",
    "\n",
    "# TRAINING SET SITE B ------------------------------------------------------------------\n",
    "X_te_list = []\n",
    "y_te = []\n",
    "\n",
    "crop_test(i_img)\n",
    "print(\"Testing...\")\n",
    "print(len(X_te_list))\n",
    "print(len(y_te))"
   ]
  },
  {
   "cell_type": "markdown",
   "metadata": {},
   "source": [
    "### Reshaping Training and Testing Dataset"
   ]
  },
  {
   "cell_type": "code",
   "execution_count": 6,
   "metadata": {},
   "outputs": [
    {
     "name": "stdout",
     "output_type": "stream",
     "text": [
      "(10,)\n",
      "[ 36.  32.  29.  26.  59.  37.  26. 213.  41.  62.] 0\n",
      "(10,)\n",
      "[ 37.  33.  30.  27.  54.  36.  26. 198.  59.  85.] 2\n"
     ]
    }
   ],
   "source": [
    "# TRAINING SET SITE A ------------------------------------------------------------------\n",
    "X_tr = []\n",
    "X_tr = np.array(X_tr_list).reshape(-1, 10)\n",
    "\n",
    "print(X_tr[0].shape)\n",
    "print(X_tr[0], y_tr[0])\n",
    "\n",
    "# TESTING SET SITE B ------------------------------------------------------------------\n",
    "X_te = []\n",
    "X_te = np.array(X_te_list).reshape(-1, 10)\n",
    "\n",
    "print(X_te[0].shape)\n",
    "print(X_te[0], y_te[0])"
   ]
  },
  {
   "cell_type": "markdown",
   "metadata": {},
   "source": [
    "### Define Keras Model"
   ]
  },
  {
   "cell_type": "code",
   "execution_count": 7,
   "metadata": {},
   "outputs": [
    {
     "name": "stdout",
     "output_type": "stream",
     "text": [
      "WARNING:tensorflow:From C:\\Users\\Abe-r\\Anaconda3\\lib\\site-packages\\tensorflow\\python\\ops\\resource_variable_ops.py:435: colocate_with (from tensorflow.python.framework.ops) is deprecated and will be removed in a future version.\n",
      "Instructions for updating:\n",
      "Colocations handled automatically by placer.\n"
     ]
    }
   ],
   "source": [
    "# define the keras model\n",
    "# The model expects rows of data with 10 variables (the input_dim=10 argument)\n",
    "# The first hidden layer has 9 nodes and uses the relu activation function.\n",
    "# The second hidden layer has 7 nodes and uses the relu activation function.\n",
    "# The output layer has 3 node and uses the sigmoid activation function.\n",
    "\n",
    "model = Sequential()\n",
    "model.add(Dense(9, input_dim = 10, activation='relu'))\n",
    "model.add(Dense(7, activation='relu'))\n",
    "model.add(Dense(3, activation='sigmoid'))"
   ]
  },
  {
   "cell_type": "markdown",
   "metadata": {},
   "source": [
    "### Compile Model"
   ]
  },
  {
   "cell_type": "code",
   "execution_count": 8,
   "metadata": {},
   "outputs": [],
   "source": [
    "# compile the keras model\n",
    "model.compile(loss='sparse_categorical_crossentropy', optimizer='adam', metrics=['accuracy'])"
   ]
  },
  {
   "cell_type": "markdown",
   "metadata": {},
   "source": [
    "### Fit Model"
   ]
  },
  {
   "cell_type": "code",
   "execution_count": 9,
   "metadata": {},
   "outputs": [
    {
     "name": "stdout",
     "output_type": "stream",
     "text": [
      "Epoch 1/15\n",
      "200/200 [==============================] - 0s 731us/sample - loss: 2.3050 - acc: 0.3050\n",
      "Epoch 2/15\n",
      "200/200 [==============================] - 0s 91us/sample - loss: 2.3050 - acc: 0.3050\n",
      "Epoch 3/15\n",
      "200/200 [==============================] - 0s 95us/sample - loss: 2.3050 - acc: 0.3050\n",
      "Epoch 4/15\n",
      "200/200 [==============================] - 0s 101us/sample - loss: 2.3050 - acc: 0.3050\n",
      "Epoch 5/15\n",
      "200/200 [==============================] - 0s 92us/sample - loss: 2.3050 - acc: 0.3050\n",
      "Epoch 6/15\n",
      "200/200 [==============================] - 0s 96us/sample - loss: 2.3050 - acc: 0.3050\n",
      "Epoch 7/15\n",
      "200/200 [==============================] - 0s 95us/sample - loss: 2.3050 - acc: 0.3050\n",
      "Epoch 8/15\n",
      "200/200 [==============================] - 0s 89us/sample - loss: 2.3050 - acc: 0.3050\n",
      "Epoch 9/15\n",
      "200/200 [==============================] - 0s 95us/sample - loss: 2.3050 - acc: 0.3050\n",
      "Epoch 10/15\n",
      "200/200 [==============================] - 0s 100us/sample - loss: 2.3050 - acc: 0.3050\n",
      "Epoch 11/15\n",
      "200/200 [==============================] - 0s 90us/sample - loss: 2.3050 - acc: 0.3050\n",
      "Epoch 12/15\n",
      "200/200 [==============================] - 0s 95us/sample - loss: 2.3050 - acc: 0.3050\n",
      "Epoch 13/15\n",
      "200/200 [==============================] - 0s 95us/sample - loss: 2.3050 - acc: 0.3050\n",
      "Epoch 14/15\n",
      "200/200 [==============================] - 0s 85us/sample - loss: 2.3050 - acc: 0.3050\n",
      "Epoch 15/15\n",
      "200/200 [==============================] - 0s 90us/sample - loss: 2.3050 - acc: 0.3050\n"
     ]
    },
    {
     "data": {
      "text/plain": [
       "<tensorflow.python.keras.callbacks.History at 0x195fb1c78d0>"
      ]
     },
     "execution_count": 9,
     "metadata": {},
     "output_type": "execute_result"
    }
   ],
   "source": [
    "# fit the keras model on the dataset\n",
    "model.fit(X_tr, y_tr, epochs=15, batch_size=10)"
   ]
  },
  {
   "cell_type": "markdown",
   "metadata": {},
   "source": [
    "### Evaluate Model"
   ]
  },
  {
   "cell_type": "code",
   "execution_count": 10,
   "metadata": {},
   "outputs": [
    {
     "name": "stdout",
     "output_type": "stream",
     "text": [
      "200/200 [==============================] - 0s 254us/sample - loss: 1.8214 - acc: 0.5250\n",
      "Accuracy: 52.50\n"
     ]
    }
   ],
   "source": [
    "# evaluate the keras model\n",
    "loss, accuracy = model.evaluate(X_te, y_te)\n",
    "print('Accuracy: %.2f' % (accuracy*100))"
   ]
  }
 ],
 "metadata": {
  "kernelspec": {
   "display_name": "Python 3",
   "language": "python",
   "name": "python3"
  },
  "language_info": {
   "codemirror_mode": {
    "name": "ipython",
    "version": 3
   },
   "file_extension": ".py",
   "mimetype": "text/x-python",
   "name": "python",
   "nbconvert_exporter": "python",
   "pygments_lexer": "ipython3",
   "version": "3.6.4"
  }
 },
 "nbformat": 4,
 "nbformat_minor": 2
}
